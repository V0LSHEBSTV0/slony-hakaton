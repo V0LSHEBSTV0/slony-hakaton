{
 "cells": [
  {
   "cell_type": "code",
   "execution_count": null,
   "id": "c818f3e3",
   "metadata": {},
   "outputs": [],
   "source": [
    "!git clone https://github.com/Kemsekov/kemsekov_torch\n",
    "!cd kemsekov_torch && git pull"
   ]
  },
  {
   "cell_type": "code",
   "execution_count": null,
   "id": "11287cf8",
   "metadata": {},
   "outputs": [],
   "source": [
    "segmentation_model = 'vlad/seg-drone.pt'\n",
    "yolo_model = \"andry/best2.pt\"\n",
    "classification=\"egor/best2.pth\"\n",
    "\n",
    "pad_to_multiple=128\n",
    "padding_value=0.5\n",
    "\n",
    "# трешхолд для сегментации\n",
    "seg_threshold = 0.5\n",
    "\n",
    "# трешхолд для объектов после сегментации\n",
    "prob_threshold=0.6\n",
    "\n",
    "# трешхолд для первичной классификации боксов моделью егора\n",
    "classification_threshold = 0.9\n",
    "\n",
    "# размер тайла, который вырезается для области предсказанной моделькой сегментации\n",
    "tile_size=512\n",
    "\n",
    "# нужно ли логить промежуточные результаты\n",
    "log = True\n",
    "\n",
    "device = 'cuda'\n",
    "\n",
    "# макс расстояние между пикселями в одном кластере\n",
    "dbscan_eps = 4\n",
    "\n",
    "# мин кол-во пикселей в кластере\n",
    "dbscan_min_samples = 2\n",
    "\n",
    "# трешхолд для копий детекций\n",
    "copies_threshold=1e-3\n",
    "\n",
    "from inference_code import DroneObjectDetector\n",
    "detector = DroneObjectDetector(\n",
    "    segmentation_model,\n",
    "    yolo_model,\n",
    "    classification,\n",
    "    pad_to_multiple,\n",
    "    padding_value,\n",
    "    seg_threshold,\n",
    "    prob_threshold,\n",
    "    classification_threshold,\n",
    "    tile_size,\n",
    "    log,\n",
    "    device,\n",
    "    dbscan_eps,\n",
    "    dbscan_min_samples,\n",
    "    copies_threshold\n",
    ")"
   ]
  },
  {
   "cell_type": "code",
   "execution_count": null,
   "id": "97311dc7",
   "metadata": {},
   "outputs": [],
   "source": [
    "import os\n",
    "# path to images\n",
    "images = '/home/vlad/Documents/DRONE-DATASET/train/images'\n",
    "labels = '/home/vlad/Documents/DRONE-DATASET/train/labels'\n",
    "images_files = {f.split(\".\")[0]:os.path.join(images,f) for f in os.listdir(images)}\n",
    "label_files = {f.split(\".\")[0]:os.path.join(labels,f) for f in os.listdir(labels)}\n",
    "keys = set(label_files.keys()).intersection(set(images_files.keys()))\n",
    "keys=list(keys)"
   ]
  },
  {
   "cell_type": "code",
   "execution_count": null,
   "id": "353fb89d",
   "metadata": {},
   "outputs": [],
   "source": [
    "from drone_common import plot_image_with_boxes_and_probs\n",
    "import pandas as pd\n",
    "import random\n",
    "import PIL.Image as Image\n",
    "\n",
    "while True:\n",
    "    ind = random.randint(0,len(images_files)-1)\n",
    "    key = keys[ind]\n",
    "    imp = images_files[key]\n",
    "    lb = label_files[key]\n",
    "    true_detection = pd.read_csv(lb,header=None,sep=' ', names=['class', 'x', 'y', 'w', 'h'])\n",
    "    im = Image.open(imp)\n",
    "    \n",
    "    detection = detector.detect(im,true_detection)\n",
    "    \n",
    "    # if len(detection)!=0:\n",
    "    if log: print(im.size)\n",
    "    if log: print(\"-\"*20)\n",
    "    plot_image_with_boxes_and_probs(im,detection)\n",
    "    # display(T.ToPILImage()(r(out)))\n",
    "    \n",
    "    # extract_detections(im,detection,imp)\n",
    "    break"
   ]
  }
 ],
 "metadata": {
  "kernelspec": {
   "display_name": "venv",
   "language": "python",
   "name": "python3"
  },
  "language_info": {
   "codemirror_mode": {
    "name": "ipython",
    "version": 3
   },
   "file_extension": ".py",
   "mimetype": "text/x-python",
   "name": "python",
   "nbconvert_exporter": "python",
   "pygments_lexer": "ipython3",
   "version": "3.12.3"
  }
 },
 "nbformat": 4,
 "nbformat_minor": 5
}
